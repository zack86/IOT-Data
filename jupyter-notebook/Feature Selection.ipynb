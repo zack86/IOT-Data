{
 "cells": [
  {
   "cell_type": "markdown",
   "metadata": {},
   "source": [
    "### 參考資料: https://machinelearningmastery.com/feature-selection-machine-learning-python/"
   ]
  },
  {
   "cell_type": "code",
   "execution_count": 126,
   "metadata": {
    "collapsed": true
   },
   "outputs": [],
   "source": [
    "import numpy as np\n",
    "import pandas as pd\n",
    "import os\n",
    "from sklearn.model_selection import train_test_split\n",
    "from sklearn.preprocessing import StandardScaler\n",
    "from sklearn.tree import DecisionTreeClassifier\n",
    "from sklearn.metrics import accuracy_score\n",
    "from pydotplus import graph_from_dot_data\n",
    "from sklearn.tree import export_graphviz\n",
    "from sklearn.feature_selection import SelectKBest, f_classif, RFE\n",
    "from sklearn.ensemble import RandomForestClassifier\n",
    "from sklearn.linear_model import LogisticRegression\n",
    "from sklearn.decomposition import PCA\n",
    "import matplotlib.pyplot as plt"
   ]
  },
  {
   "cell_type": "code",
   "execution_count": 129,
   "metadata": {},
   "outputs": [
    {
     "name": "stdout",
     "output_type": "stream",
     "text": [
      "untired count: 4604\n",
      "tired count: 4043\n",
      "\n",
      "\n",
      "feature numbers: 19\n",
      "Index(['X_comp(t-5)', 'Y_comp(t-5)', 'Z_comp(t-5)', 'X_comp(t-4)',\n",
      "       'Y_comp(t-4)', 'Z_comp(t-4)', 'X_comp(t-3)', 'Y_comp(t-3)',\n",
      "       'Z_comp(t-3)', 'X_comp(t-2)', 'Y_comp(t-2)', 'Z_comp(t-2)',\n",
      "       'X_comp(t-1)', 'Y_comp(t-1)', 'Z_comp(t-1)', 'X_comp', 'Y_comp',\n",
      "       'Z_comp', 'BPM'],\n",
      "      dtype='object')\n",
      "[0 1]\n"
     ]
    }
   ],
   "source": [
    "file = '5_joined_table.csv'\n",
    "folder_path = 'D:\\Courses\\資策會_大數據班_BB105\\專題\\IOT\\IOT-Data\\\\'\n",
    "\n",
    "df = pd.read_csv(folder_path + file, engine='python')\n",
    "print('untired count: ' + str(len(df[df['label'] == 0])))\n",
    "print('tired count: ' + str(len(df[df['label'] == 1])))\n",
    "print()\n",
    "exclude_1 = '^(?!BPM)'\n",
    "include_acc = '^\\w{1}_acc'\n",
    "include_comp = '^\\w{1}_comp'\n",
    "include_2 = '^(Z_acc|BPM)'\n",
    "include_3 = '^Z_comp|X_comp'\n",
    "include_4 = '^BPM|Y_comp|X_comp'\n",
    "include_5 = '^BPM|Z_comp|X_comp|Y_comp'\n",
    "\n",
    "x = df.iloc[:,1:-1]\n",
    "x = x.filter(regex=(include_5))\n",
    "print('\\nfeature numbers: ' + str(len(x.columns)))\n",
    "print(x.columns)\n",
    "\n",
    "y = df.loc[:, 'label']\n",
    "print(np.unique(y))\n",
    "\n",
    "X_train, X_test, y_train, y_test = train_test_split(x, y, test_size=0.3, random_state=0)\n",
    "\n",
    "sc = StandardScaler()\n",
    "sc.fit(X_train)\n",
    "X_train_std = sc.transform(X_train)\n",
    "X_test_std = sc.transform(X_test)"
   ]
  },
  {
   "cell_type": "markdown",
   "metadata": {},
   "source": [
    "### Decision Tree"
   ]
  },
  {
   "cell_type": "code",
   "execution_count": 80,
   "metadata": {
    "scrolled": true
   },
   "outputs": [
    {
     "name": "stdout",
     "output_type": "stream",
     "text": [
      "Training Accuracy: 0.70\n",
      "Testing Accuracy: 0.65\n"
     ]
    }
   ],
   "source": [
    "tree = DecisionTreeClassifier(criterion='entropy',\n",
    "                              max_depth=None, \n",
    "                              min_samples_split=0.05,\n",
    "                              min_samples_leaf=100, \n",
    "                              random_state=1)\n",
    "tree.fit(X_train, y_train)\n",
    "\n",
    "y_pred = tree.predict(X_train)\n",
    "print('Training Accuracy: %.2f' % accuracy_score(y_train, y_pred))\n",
    "\n",
    "y_pred = tree.predict(X_test)\n",
    "print('Testing Accuracy: %.2f' % accuracy_score(y_test, y_pred))"
   ]
  },
  {
   "cell_type": "code",
   "execution_count": 32,
   "metadata": {},
   "outputs": [
    {
     "name": "stdout",
     "output_type": "stream",
     "text": [
      "D:\\Installed_Softwares\\NVIDIA GPU Computing Toolkit\\CUDA\\v9.0\\bin;D:\\Installed_Softwares\\NVIDIA GPU Computing Toolkit\\CUDA\\v9.0\\libnvvp;C:\\ProgramData\\Oracle\\Java\\javapath;C:\\Program Files\\Java\\jdk1.8.0_111\\bin;C:\\Windows\\System32;C:\\Windows\\System32\\wbem;C:\\WINDOWS\\system32;C:\\WINDOWS;C:\\WINDOWS\\System32\\Wbem;C:\\WINDOWS\\System32\\WindowsPowerShell\\v1.0\\;D:\\Installed_Softwares\\putty\\;C:\\Program Files\\Git\\cmd;D:\\Installed_Softwares\\Amazon\\AWSCLI\\;D:\\Installed_Softwares\\NVIDIA GPU Computing Toolkit\\CUDA\\v9.0\\bin;D:\\Installed_Softwares\\NVIDIA GPU Computing Toolkit\\CUDA\\v9.0\\lib\\x64;C:\\Python36\\Lib\\site-packages\\;c:\\users\\zack\\appdata\\local\\programs\\python\\python36\\lib\\site-packages;D:\\Installed_Softwares\\Anaconda3;D:\\Installed_Softwares\\Anaconda3\\Library\\mingw-w64\\bin;D:\\Installed_Softwares\\Anaconda3\\Library\\usr\\bin;D:\\Installed_Softwares\\Anaconda3\\Library\\bin;D:\\Installed_Softwares\\Anaconda3\\Scripts;C:\\Users\\Zack\\AppData\\Local\\Programs\\Python\\Python36\\Scripts\\;C:\\Users\\Zack\\AppData\\Local\\Programs\\Python\\Python36\\;C:\\Python36\\Scripts\\;C:\\Python36\\;D:\\Installed_Softwares\\chromedriver_win32;D:\\Coding\\MySQL\\mysql-5.7.11-winx64\\bin;C:\\Windows;C:\\Program Files (x86)\\Tesseract-OCR;D:\\Installed_Softwares\\MongoDB\\Server\\3.4\\bin;C:\\Users\\Zack\\AppData\\Local\\Microsoft\\WindowsApps;D:\\Installed_Softwares\\Anaconda3\\Library\\bin\\graphviz\n"
     ]
    }
   ],
   "source": [
    "import os\n",
    "os.environ['PATH'] = os.environ['PATH'] + ('D:\\\\Installed_Softwares\\\\Anaconda3\\\\Library\\\\bin\\\\graphviz')\n",
    "print(os.environ['PATH'])"
   ]
  },
  {
   "cell_type": "code",
   "execution_count": 91,
   "metadata": {},
   "outputs": [
    {
     "data": {
      "text/plain": [
       "True"
      ]
     },
     "execution_count": 91,
     "metadata": {},
     "output_type": "execute_result"
    }
   ],
   "source": [
    "y_str = y.map(lambda y : str(y))\n",
    "\n",
    "dot_data = export_graphviz(tree,\n",
    "                           filled=True, \n",
    "                           rounded=True,\n",
    "                           class_names=y_str,\n",
    "                           feature_names= list(x.columns),\n",
    "                           out_file=None) \n",
    "graph = graph_from_dot_data(dot_data) \n",
    "graph.write_png('tree.png')                     ## 寫出樹狀圖檔"
   ]
  },
  {
   "cell_type": "markdown",
   "metadata": {},
   "source": [
    "### Recursive Feature Elimination"
   ]
  },
  {
   "cell_type": "code",
   "execution_count": 130,
   "metadata": {},
   "outputs": [
    {
     "name": "stdout",
     "output_type": "stream",
     "text": [
      "Num Features: 5\n",
      "Selected Features: [ True False False False False False False False False False  True False\n",
      "  True False False  True False  True False]\n",
      "Feature Ranking: [ 1 13 15 10  2 11  4  8  7  9  1 12  1  6  3  1  5  1 14]\n"
     ]
    },
    {
     "data": {
      "text/plain": [
       "['X_comp(t-5)', 'Y_comp(t-2)', 'X_comp(t-1)', 'X_comp', 'Z_comp']"
      ]
     },
     "execution_count": 130,
     "metadata": {},
     "output_type": "execute_result"
    }
   ],
   "source": [
    "# feature extraction\n",
    "# model = LogisticRegression()\n",
    "model = LogisticRegression()\n",
    "rfe = RFE(model, 5)\n",
    "fit = rfe.fit(x, y)\n",
    "print(\"Num Features: %d\"% fit.n_features_) \n",
    "print(\"Selected Features: %s\"% fit.support_) \n",
    "print(\"Feature Ranking: %s\"% fit.ranking_) \n",
    "[x for index,x in enumerate(x.columns) if fit.support_[index] == True]"
   ]
  },
  {
   "cell_type": "markdown",
   "metadata": {},
   "source": [
    "### Univariate Selection"
   ]
  },
  {
   "cell_type": "code",
   "execution_count": 99,
   "metadata": {},
   "outputs": [
    {
     "name": "stdout",
     "output_type": "stream",
     "text": [
      "[  1.336e-02   1.628e-02   3.663e-05   2.131e+00   9.078e+00   5.524e-01\n",
      "   2.770e+01   5.933e+01   2.860e+01   2.137e-03   1.580e-02   1.594e-04\n",
      "   1.822e+00   8.371e+00   4.608e-01   2.620e+01   5.809e+01   2.711e+01\n",
      "   7.225e-02   5.285e-03   1.121e-02   1.563e+00   8.219e+00   2.089e-01\n",
      "   2.475e+01   5.688e+01   2.566e+01   2.989e-02   1.966e-03   3.668e-02\n",
      "   1.449e+00   8.489e+00   2.796e-01   2.337e+01   5.569e+01   2.426e+01\n",
      "   6.217e-02   3.682e-02   3.706e-02   1.717e+00   1.014e+01   1.370e-01\n",
      "   2.203e+01   5.452e+01   2.292e+01   1.516e-01   1.597e-01   1.731e-02\n",
      "   1.543e+00   9.220e+00   4.819e-01   2.074e+01   5.338e+01   2.163e+01\n",
      "   2.529e+00]\n",
      "[[-5.296 -5.089 -4.639 -4.564 -4.787 -5.108]\n",
      " [-5.089 -4.639 -4.564 -4.787 -5.108 -5.081]\n",
      " [-4.639 -4.564 -4.787 -5.108 -5.081 -5.059]\n",
      " [-4.564 -4.787 -5.108 -5.081 -5.059 -5.325]\n",
      " [-4.787 -5.108 -5.081 -5.059 -5.325 -5.538]]\n"
     ]
    }
   ],
   "source": [
    "test = SelectKBest(k=6)\n",
    "fit = test.fit(x, y)\n",
    "# summarize scores\n",
    "np.set_printoptions(precision=3)\n",
    "print(fit.scores_)\n",
    "features = fit.transform(x)\n",
    "# summarize selected features\n",
    "print(features[0:5,:])"
   ]
  },
  {
   "cell_type": "markdown",
   "metadata": {},
   "source": [
    "### Principle Component Analysis"
   ]
  },
  {
   "cell_type": "code",
   "execution_count": 103,
   "metadata": {},
   "outputs": [
    {
     "data": {
      "text/plain": [
       "array([  9.238e-01,   2.553e-02,   2.137e-02,   1.517e-02,   5.139e-03,\n",
       "         2.304e-03,   2.031e-03,   1.249e-03,   7.191e-04,   5.441e-04,\n",
       "         4.403e-04,   2.950e-04,   2.459e-04,   2.270e-04,   1.666e-04,\n",
       "         1.449e-04,   1.145e-04,   7.933e-05,   6.961e-05,   5.758e-05,\n",
       "         5.121e-05,   5.010e-05,   4.285e-05,   3.840e-05,   2.872e-05,\n",
       "         2.320e-05,   2.305e-05,   2.242e-05,   1.413e-05,   1.117e-05,\n",
       "         1.023e-05,   7.389e-06,   3.290e-06,   2.573e-06,   2.362e-06,\n",
       "         9.943e-07,   6.401e-07,   6.040e-07,   5.001e-07,   4.273e-07,\n",
       "         3.767e-07,   3.552e-07,   3.507e-07,   3.258e-07,   3.187e-07,\n",
       "         3.105e-07,   2.884e-07,   2.744e-07,   2.667e-07,   2.576e-07,\n",
       "         2.403e-07,   1.555e-07,   1.405e-07,   1.102e-07,   9.311e-08,\n",
       "         8.334e-08,   7.468e-08,   6.875e-08,   5.944e-08,   4.938e-08,\n",
       "         3.776e-08,   2.711e-08,   8.130e-09,   5.560e-09])"
      ]
     },
     "execution_count": 103,
     "metadata": {},
     "output_type": "execute_result"
    }
   ],
   "source": [
    "pca = PCA()\n",
    "x_train_pca = pca.fit_transform(x_train_std)\n",
    "pca.explained_variance_ratio_"
   ]
  },
  {
   "cell_type": "code",
   "execution_count": 111,
   "metadata": {
    "scrolled": true
   },
   "outputs": [
    {
     "data": {
      "image/png": "[encoded data removed]",
      "text/plain": [
       "<matplotlib.figure.Figure at 0x17f3ec8e8d0>"
      ]
     },
     "metadata": {},
     "output_type": "display_data"
    }
   ],
   "source": [
    "# 我們依樣取前兩名\n",
    "pca = PCA(n_components=2)\n",
    "X_train_pca = pca.fit_transform(x_train_std)\n",
    "X_test_pca = pca.transform(x_test_std)\n",
    "plt.scatter(X_train_pca[:, 0], X_train_pca[:, 1])\n",
    "plt.xlabel('PC 1')\n",
    "plt.ylabel('PC 2')\n",
    "plt.show()"
   ]
  },
  {
   "cell_type": "markdown",
   "metadata": {},
   "source": [
    "### Eigenvalues"
   ]
  },
  {
   "cell_type": "code",
   "execution_count": 124,
   "metadata": {},
   "outputs": [
    {
     "name": "stdout",
     "output_type": "stream",
     "text": [
      "\n",
      "Eigenvalues \n",
      "[  5.913e+01   1.634e+00   1.368e+00   9.713e-01   3.290e-01   1.475e-01\n",
      "   1.300e-01   7.997e-02   4.603e-02   3.483e-02   2.818e-02   1.888e-02\n",
      "   1.574e-02   1.453e-02   1.066e-02   9.277e-03   7.327e-03   5.078e-03\n",
      "   4.456e-03   3.686e-03   3.278e-03   3.207e-03   2.743e-03   2.458e-03\n",
      "   1.839e-03   1.485e-03   1.475e-03   1.435e-03   9.044e-04   7.149e-04\n",
      "   6.549e-04   4.729e-04   2.106e-04   1.647e-04   1.512e-04   6.365e-05\n",
      "   4.097e-05   3.866e-05   3.201e-05   2.735e-05   2.411e-05   2.274e-05\n",
      "   2.245e-05   2.086e-05   2.040e-05   1.987e-05   1.846e-05   1.756e-05\n",
      "   1.707e-05   1.649e-05   1.538e-05   9.956e-06   8.991e-06   3.559e-07\n",
      "   5.204e-07   7.055e-06   1.735e-06   2.417e-06   5.960e-06   3.161e-06\n",
      "   5.335e-06   3.805e-06   4.780e-06   4.401e-06]\n",
      "\n",
      "var_exp: \n",
      "[0.92375689217913703, 0.025529220026443936, 0.021374061233253205, 0.01517368256333515, 0.0051391278207785808, 0.0023041194908076973, 0.0020311662471266612, 0.0012493178105077202, 0.00071908281138943612, 0.0005441199321046036, 0.00044029571739888839, 0.0002950111862581913, 0.00024593424224822908, 0.00022696818137258243, 0.00016655669334993223, 0.00014492783517058454, 0.00011445804072660326, 7.9334261002295673e-05, 6.960632843156097e-05, 5.7576966725473882e-05, 5.121170985178792e-05, 5.0102697182987925e-05, 4.2852244692947757e-05, 3.839808363308137e-05, 2.8723221169888596e-05, 2.319639492101143e-05, 2.3048367714830312e-05, 2.2420318689971357e-05, 1.4128924218070579e-05, 1.1168386881353362e-05, 1.0231413591549727e-05, 7.3885474328294305e-06, 3.2903480086312002e-06, 2.5731985783877995e-06, 2.3624975533082634e-06, 9.9432856631022817e-07, 6.4008240350956044e-07, 6.0398048769692919e-07, 5.0006153560867216e-07, 4.2726986321539171e-07, 3.7667234551178533e-07, 3.5524653459543921e-07, 3.5073952312517357e-07, 3.2580276071282155e-07, 3.1866661424954563e-07, 3.1046164281574902e-07, 2.8836061991621716e-07, 2.7439905676024864e-07, 2.6671315896224833e-07, 2.5755233859136842e-07, 2.4026309957098949e-07, 1.5554227547079017e-07, 1.4045852897640371e-07, 1.1021638108080443e-07, 9.3112184000908336e-08, 8.3340236300154992e-08, 7.4679537549683254e-08, 6.8750303811892532e-08, 5.9435752914341306e-08, 4.9382519028084782e-08, 3.7763929200754929e-08, 2.7105429129228294e-08, 8.1302976128567752e-09, 5.5603851177073579e-09]\n",
      "\n",
      "cum_var_exp: \n",
      "[ 0.924  0.949  0.971  0.986  0.991  0.993  0.995  0.997  0.997  0.998\n",
      "  0.998  0.999  0.999  0.999  0.999  0.999  0.999  1.     1.     1.     1.\n",
      "  1.     1.     1.     1.     1.     1.     1.     1.     1.     1.     1.\n",
      "  1.     1.     1.     1.     1.     1.     1.     1.     1.     1.     1.\n",
      "  1.     1.     1.     1.     1.     1.     1.     1.     1.     1.     1.\n",
      "  1.     1.     1.     1.     1.     1.     1.     1.     1.     1.   ]\n"
     ]
    }
   ],
   "source": [
    "cov_mat = np.cov(x_train_std.T)\n",
    "eigen_vals, eigen_vecs = np.linalg.eig(cov_mat)\n",
    "\n",
    "print('\\nEigenvalues \\n%s' % eigen_vals)\n",
    "\n",
    "tot = sum(eigen_vals)\n",
    "# 將特徵值排序  並計算百分比\n",
    "var_exp = [(i / tot) for i in sorted(eigen_vals, reverse=True)]\n",
    "# 加總\n",
    "cum_var_exp = np.cumsum(var_exp)\n",
    "\n",
    "print()\n",
    "print('var_exp: \\n' + str(var_exp))\n",
    "print()\n",
    "print('cum_var_exp: \\n' + str(cum_var_exp))"
   ]
  },
  {
   "cell_type": "code",
   "execution_count": 117,
   "metadata": {},
   "outputs": [],
   "source": [
    "# plt.bar(range(1, 20), var_exp, alpha=0.5, align='center',\n",
    "#         label='individual explained variance')\n",
    "# plt.step(range(1, 20), cum_var_exp, where='mid',\n",
    "#          label='cumulative explained variance')\n",
    "# plt.ylabel('Explained variance ratio')\n",
    "# plt.xlabel('Principal components')\n",
    "# plt.legend(loc='best')\n",
    "# plt.tight_layout()\n",
    "\n",
    "# plt.show()"
   ]
  }
 ],
 "metadata": {
  "kernelspec": {
   "display_name": "Python 3",
   "language": "python",
   "name": "python3"
  },
  "language_info": {
   "codemirror_mode": {
    "name": "ipython",
    "version": 3
   },
   "file_extension": ".py",
   "mimetype": "text/x-python",
   "name": "python",
   "nbconvert_exporter": "python",
   "pygments_lexer": "ipython3",
   "version": "3.6.3"
  }
 },
 "nbformat": 4,
 "nbformat_minor": 2
}
