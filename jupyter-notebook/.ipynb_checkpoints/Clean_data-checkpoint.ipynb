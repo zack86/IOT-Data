{
 "cells": [
  {
   "cell_type": "code",
   "execution_count": 33,
   "metadata": {
    "collapsed": true
   },
   "outputs": [],
   "source": [
    "from os.path import basename\n",
    "import pandas as pd\n",
    "import numpy as np\n",
    "import re\n",
    "import os"
   ]
  },
  {
   "cell_type": "markdown",
   "metadata": {},
   "source": [
    "## 處理日期格式問題"
   ]
  },
  {
   "cell_type": "code",
   "execution_count": 18,
   "metadata": {
    "scrolled": false
   },
   "outputs": [
    {
     "name": "stdout",
     "output_type": "stream",
     "text": [
      "9_dof_1.csv\n",
      "9_dof_2.csv\n",
      "9_dof_3.csv\n",
      "9_dof_4.csv\n"
     ]
    }
   ],
   "source": [
    "nums = ['9_dof_1.csv','9_dof_2.csv','9_dof_3.csv','9_dof_4.csv']\n",
    "def addZero(x):\n",
    "    if x.index('.') == 18:\n",
    "        return x[:17] + '0' + x[17:]\n",
    "    else:\n",
    "        return x\n",
    "\n",
    "for num in nums:\n",
    "    print(num)\n",
    "    df = pd.read_csv(r'D:\\Courses\\資策會_大數據班_BB105\\專題\\IOT\\IOT-Data\\2018-03-01\\\\' + num, engine='python')\n",
    "    df['datetime'] = df['datetime'].map(addZero)\n",
    "    df.to_csv(r'D:\\Courses\\資策會_大數據班_BB105\\專題\\IOT\\IOT-Data\\2018-03-01\\\\' + num, index=False, sep=',', encoding='utf-8')"
   ]
  }
 ],
 "metadata": {
  "kernelspec": {
   "display_name": "Python 3",
   "language": "python",
   "name": "python3"
  },
  "language_info": {
   "codemirror_mode": {
    "name": "ipython",
    "version": 3
   },
   "file_extension": ".py",
   "mimetype": "text/x-python",
   "name": "python",
   "nbconvert_exporter": "python",
   "pygments_lexer": "ipython3",
   "version": "3.6.3"
  }
 },
 "nbformat": 4,
 "nbformat_minor": 2
}
