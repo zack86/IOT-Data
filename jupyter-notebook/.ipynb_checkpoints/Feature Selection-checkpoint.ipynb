{
 "cells": [
  {
   "cell_type": "code",
   "execution_count": 12,
   "metadata": {
    "collapsed": true
   },
   "outputs": [],
   "source": [
    "import numpy as np\n",
    "import pandas as pd\n",
    "import os\n",
    "from sklearn.model_selection import train_test_split\n",
    "from sklearn.preprocessing import StandardScaler\n",
    "from sklearn.tree import DecisionTreeClassifier\n",
    "from sklearn.metrics import accuracy_score"
   ]
  },
  {
   "cell_type": "code",
   "execution_count": 34,
   "metadata": {},
   "outputs": [
    {
     "name": "stdout",
     "output_type": "stream",
     "text": [
      "untired count: 4161\n",
      "tired count: 4043\n"
     ]
    },
    {
     "ename": "ValueError",
     "evalue": "operands could not be broadcast together with shapes (5742,64) (190,) (5742,64) ",
     "output_type": "error",
     "traceback": [
      "\u001b[1;31m---------------------------------------------------------------------------\u001b[0m",
      "\u001b[1;31mValueError\u001b[0m                                Traceback (most recent call last)",
      "\u001b[1;32m<ipython-input-34-25ba49861ff6>\u001b[0m in \u001b[0;36m<module>\u001b[1;34m()\u001b[0m\n\u001b[0;32m     19\u001b[0m \u001b[0msc\u001b[0m \u001b[1;33m=\u001b[0m \u001b[0mStandardScaler\u001b[0m\u001b[1;33m(\u001b[0m\u001b[1;33m)\u001b[0m\u001b[1;33m\u001b[0m\u001b[0m\n\u001b[0;32m     20\u001b[0m \u001b[0msc\u001b[0m\u001b[1;33m.\u001b[0m\u001b[0mfit\u001b[0m\u001b[1;33m(\u001b[0m\u001b[0mx_train\u001b[0m\u001b[1;33m)\u001b[0m\u001b[1;33m\u001b[0m\u001b[0m\n\u001b[1;32m---> 21\u001b[1;33m \u001b[0mX_train_std\u001b[0m \u001b[1;33m=\u001b[0m \u001b[0msc\u001b[0m\u001b[1;33m.\u001b[0m\u001b[0mtransform\u001b[0m\u001b[1;33m(\u001b[0m\u001b[0mX_train\u001b[0m\u001b[1;33m)\u001b[0m\u001b[1;33m\u001b[0m\u001b[0m\n\u001b[0m\u001b[0;32m     22\u001b[0m \u001b[0mX_test_std\u001b[0m \u001b[1;33m=\u001b[0m \u001b[0msc\u001b[0m\u001b[1;33m.\u001b[0m\u001b[0mtransform\u001b[0m\u001b[1;33m(\u001b[0m\u001b[0mX_test\u001b[0m\u001b[1;33m)\u001b[0m\u001b[1;33m\u001b[0m\u001b[0m\n\u001b[0;32m     23\u001b[0m \u001b[1;33m\u001b[0m\u001b[0m\n",
      "\u001b[1;32mD:\\Installed_Softwares\\Anaconda3\\lib\\site-packages\\sklearn\\preprocessing\\data.py\u001b[0m in \u001b[0;36mtransform\u001b[1;34m(self, X, y, copy)\u001b[0m\n\u001b[0;32m    690\u001b[0m         \u001b[1;32melse\u001b[0m\u001b[1;33m:\u001b[0m\u001b[1;33m\u001b[0m\u001b[0m\n\u001b[0;32m    691\u001b[0m             \u001b[1;32mif\u001b[0m \u001b[0mself\u001b[0m\u001b[1;33m.\u001b[0m\u001b[0mwith_mean\u001b[0m\u001b[1;33m:\u001b[0m\u001b[1;33m\u001b[0m\u001b[0m\n\u001b[1;32m--> 692\u001b[1;33m                 \u001b[0mX\u001b[0m \u001b[1;33m-=\u001b[0m \u001b[0mself\u001b[0m\u001b[1;33m.\u001b[0m\u001b[0mmean_\u001b[0m\u001b[1;33m\u001b[0m\u001b[0m\n\u001b[0m\u001b[0;32m    693\u001b[0m             \u001b[1;32mif\u001b[0m \u001b[0mself\u001b[0m\u001b[1;33m.\u001b[0m\u001b[0mwith_std\u001b[0m\u001b[1;33m:\u001b[0m\u001b[1;33m\u001b[0m\u001b[0m\n\u001b[0;32m    694\u001b[0m                 \u001b[0mX\u001b[0m \u001b[1;33m/=\u001b[0m \u001b[0mself\u001b[0m\u001b[1;33m.\u001b[0m\u001b[0mscale_\u001b[0m\u001b[1;33m\u001b[0m\u001b[0m\n",
      "\u001b[1;31mValueError\u001b[0m: operands could not be broadcast together with shapes (5742,64) (190,) (5742,64) "
     ]
    }
   ],
   "source": [
    "file = '20_joined_table.csv'\n",
    "folder_path = 'D:\\Courses\\資策會_大數據班_BB105\\專題\\IOT\\IOT-Data\\\\'\n",
    "\n",
    "df = pd.read_csv(folder_path + file, engine='python')\n",
    "print('untired count: ' + str(len(df[df['label'] == 0])))\n",
    "print('tired count: ' + str(len(df[df['label'] == 1])))\n",
    "\n",
    "exclude_1 = '^(?!BPM)'\n",
    "include_1 = '^Z_acc'\n",
    "include_2 = '^(Z_acc|BPM)'\n",
    "include_2 = '^BPM|comp?'\n",
    "\n",
    "x = df.iloc[:,1:-1]\n",
    "x = x.filter(regex=(include_2))\n",
    "y = df.loc[:, 'label']\n",
    "\n",
    "X_train, X_test, y_train, y_test = train_test_split(x, y, test_size=0.3, random_state=0)\n",
    "\n",
    "sc = StandardScaler()\n",
    "sc.fit(x_train)\n",
    "X_train_std = sc.transform(X_train)\n",
    "X_test_std = sc.transform(X_test)\n",
    "\n",
    "# print(x.columns)\n",
    "# print(np.unique(list(y)))\n",
    "print(X_train.dtypes)"
   ]
  },
  {
   "cell_type": "code",
   "execution_count": 11,
   "metadata": {
    "scrolled": true
   },
   "outputs": [
    {
     "data": {
      "text/plain": [
       "DecisionTreeClassifier(class_weight=None, criterion='entropy', max_depth=None,\n",
       "            max_features=None, max_leaf_nodes=None,\n",
       "            min_impurity_decrease=0.0, min_impurity_split=None,\n",
       "            min_samples_leaf=2, min_samples_split=5,\n",
       "            min_weight_fraction_leaf=0.0, presort=False, random_state=0,\n",
       "            splitter='best')"
      ]
     },
     "execution_count": 11,
     "metadata": {},
     "output_type": "execute_result"
    }
   ],
   "source": [
    "tree = DecisionTreeClassifier(criterion='entropy',\n",
    "                              max_depth=None, \n",
    "                              min_samples_split =5,\n",
    "                              min_samples_leaf= 2, \n",
    "                              random_state=0)\n",
    "tree.fit(X_train, y_train)"
   ]
  },
  {
   "cell_type": "code",
   "execution_count": 13,
   "metadata": {},
   "outputs": [
    {
     "name": "stdout",
     "output_type": "stream",
     "text": [
      "Training Accuracy: 0.99\n",
      "Testing Accuracy: 0.73\n"
     ]
    }
   ],
   "source": [
    "y_pred = tree.predict(X_train)\n",
    "print('Training Accuracy: %.2f' % accuracy_score(y_train, y_pred))\n",
    "\n",
    "y_pred = tree.predict(X_test)\n",
    "print('Testing Accuracy: %.2f' % accuracy_score(y_test, y_pred))"
   ]
  },
  {
   "cell_type": "code",
   "execution_count": 32,
   "metadata": {},
   "outputs": [
    {
     "name": "stdout",
     "output_type": "stream",
     "text": [
      "D:\\Installed_Softwares\\NVIDIA GPU Computing Toolkit\\CUDA\\v9.0\\bin;D:\\Installed_Softwares\\NVIDIA GPU Computing Toolkit\\CUDA\\v9.0\\libnvvp;C:\\ProgramData\\Oracle\\Java\\javapath;C:\\Program Files\\Java\\jdk1.8.0_111\\bin;C:\\Windows\\System32;C:\\Windows\\System32\\wbem;C:\\WINDOWS\\system32;C:\\WINDOWS;C:\\WINDOWS\\System32\\Wbem;C:\\WINDOWS\\System32\\WindowsPowerShell\\v1.0\\;D:\\Installed_Softwares\\putty\\;C:\\Program Files\\Git\\cmd;D:\\Installed_Softwares\\Amazon\\AWSCLI\\;D:\\Installed_Softwares\\NVIDIA GPU Computing Toolkit\\CUDA\\v9.0\\bin;D:\\Installed_Softwares\\NVIDIA GPU Computing Toolkit\\CUDA\\v9.0\\lib\\x64;C:\\Python36\\Lib\\site-packages\\;c:\\users\\zack\\appdata\\local\\programs\\python\\python36\\lib\\site-packages;D:\\Installed_Softwares\\Anaconda3;D:\\Installed_Softwares\\Anaconda3\\Library\\mingw-w64\\bin;D:\\Installed_Softwares\\Anaconda3\\Library\\usr\\bin;D:\\Installed_Softwares\\Anaconda3\\Library\\bin;D:\\Installed_Softwares\\Anaconda3\\Scripts;C:\\Users\\Zack\\AppData\\Local\\Programs\\Python\\Python36\\Scripts\\;C:\\Users\\Zack\\AppData\\Local\\Programs\\Python\\Python36\\;C:\\Python36\\Scripts\\;C:\\Python36\\;D:\\Installed_Softwares\\chromedriver_win32;D:\\Coding\\MySQL\\mysql-5.7.11-winx64\\bin;C:\\Windows;C:\\Program Files (x86)\\Tesseract-OCR;D:\\Installed_Softwares\\MongoDB\\Server\\3.4\\bin;C:\\Users\\Zack\\AppData\\Local\\Microsoft\\WindowsApps;D:\\Installed_Softwares\\Anaconda3\\Library\\bin\\graphviz\n"
     ]
    }
   ],
   "source": [
    "import os\n",
    "os.environ['PATH'] = os.environ['PATH'] + ('D:\\\\Installed_Softwares\\\\Anaconda3\\\\Library\\\\bin\\\\graphviz')\n",
    "print(os.environ['PATH'])"
   ]
  },
  {
   "cell_type": "code",
   "execution_count": 38,
   "metadata": {},
   "outputs": [
    {
     "name": "stdout",
     "output_type": "stream",
     "text": [
      "0       0\n",
      "1       0\n",
      "2       0\n",
      "3       0\n",
      "4       0\n",
      "5       0\n",
      "6       0\n",
      "7       0\n",
      "8       0\n",
      "9       0\n",
      "10      0\n",
      "11      0\n",
      "12      0\n",
      "13      0\n",
      "14      0\n",
      "15      0\n",
      "16      0\n",
      "17      0\n",
      "18      0\n",
      "19      0\n",
      "20      0\n",
      "21      0\n",
      "22      0\n",
      "23      0\n",
      "24      0\n",
      "25      0\n",
      "26      0\n",
      "27      0\n",
      "28      0\n",
      "29      0\n",
      "       ..\n",
      "8174    1\n",
      "8175    1\n",
      "8176    1\n",
      "8177    1\n",
      "8178    1\n",
      "8179    1\n",
      "8180    1\n",
      "8181    1\n",
      "8182    1\n",
      "8183    1\n",
      "8184    1\n",
      "8185    1\n",
      "8186    1\n",
      "8187    1\n",
      "8188    1\n",
      "8189    1\n",
      "8190    1\n",
      "8191    1\n",
      "8192    1\n",
      "8193    1\n",
      "8194    1\n",
      "8195    1\n",
      "8196    1\n",
      "8197    1\n",
      "8198    1\n",
      "8199    1\n",
      "8200    1\n",
      "8201    1\n",
      "8202    1\n",
      "8203    1\n",
      "Name: label, Length: 8204, dtype: int64\n"
     ]
    },
    {
     "ename": "ValueError",
     "evalue": "Length of feature_names, 64 does not match number of features, 190",
     "output_type": "error",
     "traceback": [
      "\u001b[1;31m---------------------------------------------------------------------------\u001b[0m",
      "\u001b[1;31mValueError\u001b[0m                                Traceback (most recent call last)",
      "\u001b[1;32m<ipython-input-38-d7a4477eb0b1>\u001b[0m in \u001b[0;36m<module>\u001b[1;34m()\u001b[0m\n\u001b[0;32m     10\u001b[0m                            \u001b[0mclass_names\u001b[0m\u001b[1;33m=\u001b[0m\u001b[0my_str\u001b[0m\u001b[1;33m,\u001b[0m\u001b[1;33m\u001b[0m\u001b[0m\n\u001b[0;32m     11\u001b[0m                            \u001b[0mfeature_names\u001b[0m\u001b[1;33m=\u001b[0m \u001b[0mlist\u001b[0m\u001b[1;33m(\u001b[0m\u001b[0mx\u001b[0m\u001b[1;33m.\u001b[0m\u001b[0mcolumns\u001b[0m\u001b[1;33m)\u001b[0m\u001b[1;33m,\u001b[0m\u001b[1;33m\u001b[0m\u001b[0m\n\u001b[1;32m---> 12\u001b[1;33m                            out_file=None) \n\u001b[0m\u001b[0;32m     13\u001b[0m \u001b[0mgraph\u001b[0m \u001b[1;33m=\u001b[0m \u001b[0mgraph_from_dot_data\u001b[0m\u001b[1;33m(\u001b[0m\u001b[0mdot_data\u001b[0m\u001b[1;33m)\u001b[0m\u001b[1;33m\u001b[0m\u001b[0m\n\u001b[0;32m     14\u001b[0m \u001b[0mgraph\u001b[0m\u001b[1;33m.\u001b[0m\u001b[0mwrite_png\u001b[0m\u001b[1;33m(\u001b[0m\u001b[1;34m'tree.png'\u001b[0m\u001b[1;33m)\u001b[0m\u001b[1;33m\u001b[0m\u001b[0m\n",
      "\u001b[1;32mD:\\Installed_Softwares\\Anaconda3\\lib\\site-packages\\sklearn\\tree\\export.py\u001b[0m in \u001b[0;36mexport_graphviz\u001b[1;34m(decision_tree, out_file, max_depth, feature_names, class_names, label, filled, leaves_parallel, impurity, node_ids, proportion, rotate, rounded, special_characters, precision)\u001b[0m\n\u001b[0;32m    427\u001b[0m                                  \u001b[1;34m\"does not match number of features, %d\"\u001b[0m\u001b[1;33m\u001b[0m\u001b[0m\n\u001b[0;32m    428\u001b[0m                                  % (len(feature_names),\n\u001b[1;32m--> 429\u001b[1;33m                                     decision_tree.n_features_))\n\u001b[0m\u001b[0;32m    430\u001b[0m \u001b[1;33m\u001b[0m\u001b[0m\n\u001b[0;32m    431\u001b[0m         \u001b[1;31m# The depth of each node for plotting with 'leaf' option\u001b[0m\u001b[1;33m\u001b[0m\u001b[1;33m\u001b[0m\u001b[0m\n",
      "\u001b[1;31mValueError\u001b[0m: Length of feature_names, 64 does not match number of features, 190"
     ]
    }
   ],
   "source": [
    "from pydotplus import graph_from_dot_data\n",
    "from sklearn.tree import export_graphviz\n",
    "\n",
    "y_str = y.map(lambda y : str(y))\n",
    "\n",
    "dot_data = export_graphviz(tree,\n",
    "                           filled=True, \n",
    "                           rounded=True,\n",
    "                           class_names=y_str,\n",
    "                           feature_names= list(x.columns),\n",
    "                           out_file=None) \n",
    "graph = graph_from_dot_data(dot_data) \n",
    "graph.write_png('tree.png')"
   ]
  }
 ],
 "metadata": {
  "kernelspec": {
   "display_name": "Python 3",
   "language": "python",
   "name": "python3"
  },
  "language_info": {
   "codemirror_mode": {
    "name": "ipython",
    "version": 3
   },
   "file_extension": ".py",
   "mimetype": "text/x-python",
   "name": "python",
   "nbconvert_exporter": "python",
   "pygments_lexer": "ipython3",
   "version": "3.6.3"
  }
 },
 "nbformat": 4,
 "nbformat_minor": 2
}
