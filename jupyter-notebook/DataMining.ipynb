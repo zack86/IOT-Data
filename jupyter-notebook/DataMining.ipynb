{
 "cells": [
  {
   "cell_type": "markdown",
   "metadata": {},
   "source": [
    "## Imports"
   ]
  },
  {
   "cell_type": "code",
   "execution_count": 204,
   "metadata": {
    "collapsed": true
   },
   "outputs": [],
   "source": [
    "import numpy as np\n",
    "import pandas as pd\n",
    "from sklearn.model_selection import train_test_split\n",
    "from sklearn.preprocessing import StandardScaler\n",
    "from sklearn.linear_model import LogisticRegression\n",
    "from sklearn.metrics import accuracy_score\n",
    "from sklearn.svm import SVC\n",
    "\n",
    "# 用 pipeline 串接 StandardScaler, PCA, LogisticRegression \n",
    "from sklearn.preprocessing import StandardScaler\n",
    "from sklearn.linear_model import LogisticRegression\n",
    "from sklearn.pipeline import Pipeline\n",
    "from collections import Counter\n",
    "from sklearn.model_selection import cross_val_score\n",
    "\n",
    "# Plot learning curve\n",
    "import matplotlib.pyplot as plt\n",
    "from sklearn.model_selection import learning_curve\n",
    "\n",
    "# Validations\n",
    "from sklearn.model_selection import validation_curve\n",
    "from sklearn.model_selection import learning_curve\n",
    "\n",
    "# 調整svm的kernel 參數 以及C 參數\n",
    "from sklearn.svm import SVC\n",
    "from sklearn.model_selection import GridSearchCV\n",
    "from sklearn.metrics import precision_recall_fscore_support\n",
    "from matplotlib.colors import ListedColormap\n",
    "from sklearn.tree import DecisionTreeClassifier\n",
    "from sklearn.ensemble import RandomForestClassifier\n",
    "import matplotlib.pyplot as plt"
   ]
  },
  {
   "cell_type": "markdown",
   "metadata": {},
   "source": [
    "## File setup"
   ]
  },
  {
   "cell_type": "code",
   "execution_count": 212,
   "metadata": {
    "scrolled": false
   },
   "outputs": [
    {
     "name": "stdout",
     "output_type": "stream",
     "text": [
      "untired count: 4604\n",
      "tired count: 4043\n",
      "\n",
      "feature numbers: 19\n",
      "Index(['X_comp(t-5)', 'Y_comp(t-5)', 'Z_comp(t-5)', 'X_comp(t-4)',\n",
      "       'Y_comp(t-4)', 'Z_comp(t-4)', 'X_comp(t-3)', 'Y_comp(t-3)',\n",
      "       'Z_comp(t-3)', 'X_comp(t-2)', 'Y_comp(t-2)', 'Z_comp(t-2)',\n",
      "       'X_comp(t-1)', 'Y_comp(t-1)', 'Z_comp(t-1)', 'X_comp', 'Y_comp',\n",
      "       'Z_comp', 'BPM'],\n",
      "      dtype='object')\n"
     ]
    }
   ],
   "source": [
    "file = '5_joined_table.csv'\n",
    "folder_path = 'D:\\Courses\\資策會_大數據班_BB105\\專題\\IOT\\IOT-Data\\\\'\n",
    "\n",
    "df = pd.read_csv(folder_path + file, engine='python')\n",
    "print('untired count: ' + str(len(df[df['label'] == 0])))\n",
    "print('tired count: ' + str(len(df[df['label'] == 1])))\n",
    "\n",
    "exclude_1 = '^(?!BPM)'\n",
    "include_acc = '^\\w{1}_acc'\n",
    "include_comp = '^\\w{1}_comp'\n",
    "include_2 = '^(Z_acc|BPM)'\n",
    "include_3 = '^Z_comp|X_comp'\n",
    "include_4 = '^BPM|Y_comp|X_comp'\n",
    "include_5 = '^BPM|Z_comp|X_comp|Y_comp'\n",
    "include_6 = '^X_comp'\n",
    "\n",
    "x = df.iloc[:,1:-1]\n",
    "x = x.filter(regex=(include_5))\n",
    "y = df.loc[:, 'label']\n",
    "\n",
    "x_train, x_test, y_train, y_test = train_test_split(x, y, test_size=0.3, random_state=0)\n",
    "\n",
    "sc = StandardScaler()\n",
    "sc.fit(x_train)\n",
    "x_train_std = sc.transform(x_train)\n",
    "x_test_std = sc.transform(x_test)\n",
    "\n",
    "# x_combined = np.vstack((x_train, x_test))\n",
    "# y_combined = np.hstack((y_train, y_test))\n",
    "\n",
    "print('\\nfeature numbers: ' + str(len(x.columns)))\n",
    "print(x.columns)\n"
   ]
  },
  {
   "cell_type": "markdown",
   "metadata": {},
   "source": [
    "## Decision Tree"
   ]
  },
  {
   "cell_type": "code",
   "execution_count": 208,
   "metadata": {},
   "outputs": [
    {
     "name": "stdout",
     "output_type": "stream",
     "text": [
      "Training Accuracy: 0.70\n",
      "Testing Accuracy: 0.65\n"
     ]
    }
   ],
   "source": [
    "tree = DecisionTreeClassifier(criterion='entropy',\n",
    "                              max_depth=None, \n",
    "                              min_samples_split=0.05,\n",
    "                              min_samples_leaf=100, \n",
    "                              random_state=1)\n",
    "tree.fit(x_train_std, y_train)\n",
    "\n",
    "y_pred = tree.predict(x_train_std)\n",
    "print('Training Accuracy: %.2f' % accuracy_score(y_train, y_pred))\n",
    "\n",
    "y_pred = tree.predict(x_test_std)\n",
    "print('Testing Accuracy: %.2f' % accuracy_score(y_test, y_pred))"
   ]
  },
  {
   "cell_type": "markdown",
   "metadata": {},
   "source": [
    "## RandomForest"
   ]
  },
  {
   "cell_type": "code",
   "execution_count": 209,
   "metadata": {},
   "outputs": [
    {
     "name": "stdout",
     "output_type": "stream",
     "text": [
      "Random Forest train accuracy: 0.990416391276\n",
      "Random Forest test accuracy:  0.808477842004\n",
      "\n",
      "-------------- Cross Validation --------------\n",
      "\n",
      "Test Accuracy: 0.808\n",
      "CV accuracy scores: [ 0.814  0.812  0.775  0.815  0.82   0.782  0.795  0.767  0.805  0.805]\n",
      "CV accuracy: 0.799 +/- 0.017\n",
      "\n",
      "-------------- Learning Curve --------------\n",
      "\n"
     ]
    },
    {
     "data": {
      "image/png": "[encoded data removed]",
      "text/plain": [
       "<matplotlib.figure.Figure at 0x1d70f794860>"
      ]
     },
     "metadata": {},
     "output_type": "display_data"
    }
   ],
   "source": [
    "forest = RandomForestClassifier(criterion='entropy', # entropy or gini\n",
    "                                n_estimators=10, \n",
    "                                random_state=1,\n",
    "                                n_jobs=2)\n",
    "\n",
    "forest.fit(x_train_std, y_train)\n",
    "y_pred = forest.predict(x_test_std)\n",
    "\n",
    "print('Random Forest train accuracy: ' + str(forest.score(x_train_std, y_train)))\n",
    "print('Random Forest test accuracy:  ' + str(accuracy_score(y_test, y_pred)))\n",
    "\n",
    "print('\\n-------------- Cross Validation --------------\\n')\n",
    "\n",
    "pipe_rf = Pipeline([('scl', StandardScaler()),\n",
    "                    ('clf', RandomForestClassifier(criterion='entropy',\n",
    "                                n_estimators=10, \n",
    "                                random_state=1,\n",
    "                                n_jobs=2))])\n",
    "\n",
    "pipe_rf.fit(x_train_std, y_train)\n",
    "print('Test Accuracy: %.3f' % pipe_rf.score(x_test_std, y_test))\n",
    "\n",
    "scores = cross_val_score(estimator=pipe_rf,\n",
    "                         X=x_train_std,\n",
    "                         y=y_train,\n",
    "                         cv=10,\n",
    "                         n_jobs=2)\n",
    "\n",
    "print('CV accuracy scores: %s' % scores)\n",
    "print('CV accuracy: %.3f +/- %.3f' % (np.mean(scores), np.std(scores)))\n",
    "\n",
    "print('\\n-------------- Learning Curve --------------\\n')\n",
    "\n",
    "# penalty='l2' : 正規化\n",
    "train_sizes, train_scores, validation_scores =\\\n",
    "                learning_curve(estimator=pipe_rf,\n",
    "                               X=x_train_std,\n",
    "                               y=y_train,\n",
    "                               train_sizes=np.linspace(0.1, 1.0, 10),\n",
    "                               cv=10,\n",
    "                               n_jobs=-1)\n",
    "\n",
    "train_mean = np.mean(train_scores, axis=1)\n",
    "train_std = np.std(train_scores, axis=1)\n",
    "validation_mean = np.mean(validation_scores, axis=1)\n",
    "validation_std = np.std(validation_scores, axis=1)\n",
    "\n",
    "plt.plot(train_sizes, train_mean,\n",
    "         color='blue', marker='o',\n",
    "         markersize=5, label='training accuracy')\n",
    "\n",
    "plt.fill_between(train_sizes,\n",
    "                 train_mean + train_std,\n",
    "                 train_mean - train_std,\n",
    "                 alpha=0.15, color='blue')\n",
    "\n",
    "plt.plot(train_sizes, validation_mean,\n",
    "         color='green', linestyle='--',\n",
    "         marker='s', markersize=5,\n",
    "         label='validation accuracy')\n",
    "\n",
    "plt.fill_between(train_sizes,\n",
    "                 validation_mean + validation_std,\n",
    "                 validation_mean - validation_std,\n",
    "                 alpha=0.15, color='green')\n",
    "\n",
    "plt.grid()\n",
    "plt.xlabel('Number of training samples')\n",
    "plt.ylabel('Accuracy')\n",
    "plt.legend(loc='lower right')\n",
    "plt.ylim([0.1, 1])\n",
    "plt.tight_layout()\n",
    "\n",
    "plt.show()"
   ]
  },
  {
   "cell_type": "markdown",
   "metadata": {},
   "source": [
    "## Logistic Regression"
   ]
  },
  {
   "cell_type": "code",
   "execution_count": 213,
   "metadata": {
    "scrolled": false
   },
   "outputs": [
    {
     "name": "stdout",
     "output_type": "stream",
     "text": [
      "Logistic Regression train accuracy: 0.539160608063\n",
      "Logistic Regression test accuracy:  0.534874759152\n",
      "\n",
      "-------------- Cross Validation --------------\n",
      "\n",
      "Test Accuracy: 0.540\n",
      "CV accuracy scores: [ 0.553  0.546  0.549  0.552  0.532  0.545  0.542  0.549  0.55   0.545]\n",
      "CV accuracy: 0.546 +/- 0.006\n",
      "\n",
      "-------------- Learning Curve --------------\n",
      "\n"
     ]
    },
    {
     "data": {
      "image/png": "[encoded data removed]",
      "text/plain": [
       "<matplotlib.figure.Figure at 0x1d70e609358>"
      ]
     },
     "metadata": {},
     "output_type": "display_data"
    },
    {
     "name": "stdout",
     "output_type": "stream",
     "text": [
      "\n",
      "-------------- Validation Curve --------------\n",
      "\n"
     ]
    },
    {
     "data": {
      "image/png": "[encoded data removed]",
      "text/plain": [
       "<matplotlib.figure.Figure at 0x1d70f7be0b8>"
      ]
     },
     "metadata": {},
     "output_type": "display_data"
    }
   ],
   "source": [
    "lr = LogisticRegression(C=1000.0, random_state=1)\n",
    "lr.fit(x_train_std, y_train)\n",
    "y_pred = lr.predict(x_test_std)\n",
    "\n",
    "print('Logistic Regression train accuracy: ' + str(lr.score(x_train_std, y_train)))\n",
    "print('Logistic Regression test accuracy:  ' + str(accuracy_score(y_test, y_pred)))\n",
    "\n",
    "print('\\n-------------- Cross Validation --------------\\n')\n",
    "\n",
    "pipe_lr = Pipeline([('scl', StandardScaler()),\n",
    "#                     ('pca', PCA(n_components=2)),\n",
    "                    ('clf', LogisticRegression(random_state=1))])\n",
    "\n",
    "pipe_lr.fit(x_train_std, y_train)\n",
    "print('Test Accuracy: %.3f' % pipe_lr.score(x_test_std, y_test))\n",
    "scores = cross_val_score(estimator=pipe_lr,\n",
    "                         X=x_train_std,\n",
    "                         y=y_train,\n",
    "                         cv=10,\n",
    "                         n_jobs=2)\n",
    "\n",
    "print('CV accuracy scores: %s' % scores)\n",
    "print('CV accuracy: %.3f +/- %.3f' % (np.mean(scores), np.std(scores)))\n",
    "\n",
    "print('\\n-------------- Learning Curve --------------\\n')\n",
    "\n",
    "# penalty='l2' : 正規化\n",
    "train_sizes, train_scores, validation_scores =\\\n",
    "                learning_curve(estimator=pipe_lr,\n",
    "                               X=x_train_std,\n",
    "                               y=y_train,\n",
    "                               train_sizes=np.linspace(0.1, 1.0, 10),\n",
    "                               cv=10,\n",
    "                               n_jobs=-1)\n",
    "# train_sizes=np.linspace(0.1, 1.0, 10) \n",
    "# array([ 0.1,  0.2,  0.3,  0.4,  0.5,  0.6,  0.7,  0.8,  0.9,  1. ])\n",
    "train_mean = np.mean(train_scores, axis=1)\n",
    "train_std = np.std(train_scores, axis=1)\n",
    "validation_mean = np.mean(validation_scores, axis=1)\n",
    "validation_std = np.std(validation_scores, axis=1)\n",
    "\n",
    "plt.plot(train_sizes, train_mean,\n",
    "         color='blue', marker='o',\n",
    "         markersize=5, label='training accuracy')\n",
    "\n",
    "plt.fill_between(train_sizes,\n",
    "                 train_mean + train_std,\n",
    "                 train_mean - train_std,\n",
    "                 alpha=0.15, color='blue')\n",
    "\n",
    "plt.plot(train_sizes, validation_mean,\n",
    "         color='green', linestyle='--',\n",
    "         marker='s', markersize=5,\n",
    "         label='validation accuracy')\n",
    "\n",
    "plt.fill_between(train_sizes,\n",
    "                 validation_mean + validation_std,\n",
    "                 validation_mean - validation_std,\n",
    "                 alpha=0.15, color='green')\n",
    "\n",
    "plt.grid()\n",
    "plt.xlabel('Number of training samples')\n",
    "plt.ylabel('Accuracy')\n",
    "plt.legend(loc='lower right')\n",
    "plt.ylim([0.1, 1])\n",
    "plt.tight_layout()\n",
    "\n",
    "plt.show()\n",
    "\n",
    "print('\\n-------------- Validation Curve --------------\\n')\n",
    "\n",
    "param_range = [0.001, 0.01, 0.1, 1.0, 10.0, 100.0]\n",
    "train_scores, validation_scores = validation_curve(\n",
    "                estimator=pipe_lr, \n",
    "                X=x_train_std, \n",
    "                y=y_train, \n",
    "                param_name='clf__C', \n",
    "                param_range=param_range,\n",
    "                cv=10)\n",
    "\n",
    "train_mean = np.mean(train_scores, axis=1)\n",
    "train_std = np.std(train_scores, axis=1)\n",
    "validation_mean = np.mean(validation_scores, axis=1)\n",
    "validation_std = np.std(validation_scores, axis=1)\n",
    "\n",
    "plt.plot(param_range, train_mean, \n",
    "         color='blue', marker='o', \n",
    "         markersize=5, label='training accuracy')\n",
    "\n",
    "plt.fill_between(param_range, train_mean + train_std,\n",
    "                 train_mean - train_std, alpha=0.15,\n",
    "                 color='blue')\n",
    "\n",
    "plt.plot(param_range, validation_mean, \n",
    "         color='green', linestyle='--', \n",
    "         marker='s', markersize=5, \n",
    "         label='validation accuracy')\n",
    "\n",
    "plt.fill_between(param_range, \n",
    "                 validation_mean + validation_std,\n",
    "                 validation_mean - validation_std, \n",
    "                 alpha=0.15, color='green')\n",
    "\n",
    "plt.grid()\n",
    "plt.xscale('log')\n",
    "plt.legend(loc='lower right')\n",
    "plt.xlabel('Parameter C')\n",
    "plt.ylabel('Accuracy')\n",
    "plt.ylim([0.5, 0.6])\n",
    "plt.tight_layout()\n",
    "plt.show()"
   ]
  },
  {
   "cell_type": "markdown",
   "metadata": {},
   "source": [
    "### Grid Search using SVM"
   ]
  },
  {
   "cell_type": "code",
   "execution_count": 166,
   "metadata": {},
   "outputs": [
    {
     "name": "stdout",
     "output_type": "stream",
     "text": [
      "0.613069647463\n",
      "{'clf__C': 1.0, 'clf__gamma': 10.0, 'clf__kernel': 'rbf'}\n"
     ]
    }
   ],
   "source": [
    "pipe_svc = Pipeline([('scl', StandardScaler()),\n",
    "            ('clf', SVC(random_state=1))])\n",
    "# 參數的範圍\n",
    "param_range = [0.0001, 0.001, 0.01, 0.1, 1.0, 10.0, 100.0, 1000.0]\n",
    "# 一次調好幾個參數   字典類型的list 傳入\n",
    "param_grid = [{'clf__C': param_range, \n",
    "               'clf__kernel': ['linear']},\n",
    "                 {'clf__C': param_range, \n",
    "                  'clf__gamma': param_range, \n",
    "                  'clf__kernel': ['rbf']}]\n",
    "\n",
    "gs = GridSearchCV(estimator=pipe_svc, \n",
    "                  param_grid=param_grid, \n",
    "                  scoring='accuracy', \n",
    "                  cv=10,\n",
    "                  n_jobs=-1)\n",
    "gs = gs.fit(x_train, y_train)\n",
    "print(gs.best_score_)\n",
    "print(gs.best_params_)"
   ]
  },
  {
   "cell_type": "markdown",
   "metadata": {},
   "source": [
    "### Pick best hyperparameters to train"
   ]
  },
  {
   "cell_type": "code",
   "execution_count": 172,
   "metadata": {},
   "outputs": [
    {
     "name": "stdout",
     "output_type": "stream",
     "text": [
      "55.3 ns ± 0.696 ns per loop (mean ± std. dev. of 7 runs, 10000000 loops each)\n",
      "3.91 s ± 29.2 ms per loop (mean ± std. dev. of 7 runs, 1 loop each)\n",
      "Test accuracy: 0.602\n"
     ]
    }
   ],
   "source": [
    "%timeit clf = gs.best_estimator_\n",
    "%timeit clf.fit(x_train, y_train)\n",
    "print('Test accuracy: %.3f' % clf.score(x_test, y_test))"
   ]
  },
  {
   "cell_type": "markdown",
   "metadata": {},
   "source": [
    "### Confusion Matrix"
   ]
  },
  {
   "cell_type": "code",
   "execution_count": 205,
   "metadata": {},
   "outputs": [
    {
     "data": {
      "text/plain": [
       "(array([ 0.538,  0.692]),\n",
       " array([ 0.98 ,  0.052]),\n",
       " array([ 0.694,  0.096]),\n",
       " array([1374, 1221], dtype=int64))"
      ]
     },
     "execution_count": 205,
     "metadata": {},
     "output_type": "execute_result"
    }
   ],
   "source": [
    "y_pred = pipe_lr.predict(x_test)\n",
    "\n",
    "precision_recall_fscore_support(y_test, y_pred)"
   ]
  },
  {
   "cell_type": "markdown",
   "metadata": {},
   "source": [
    "## SVM"
   ]
  },
  {
   "cell_type": "code",
   "execution_count": 102,
   "metadata": {},
   "outputs": [
    {
     "name": "stdout",
     "output_type": "stream",
     "text": [
      "資料什麼都沒清理 SVM Accuracy: 0.60\n"
     ]
    }
   ],
   "source": [
    "svm = SVC(kernel='rbf', random_state=0, gamma=0.5, C=1.0)\n",
    "# svm = SVC(kernel='linear', C=1.0, random_state=0)\n",
    "svm.fit(x_train_std, y_train)\n",
    "y_pred = svm.predict(x_test_std)\n",
    "print('資料什麼都沒清理 SVM Accuracy: %.2f' % accuracy_score(y_test, y_pred))"
   ]
  }
 ],
 "metadata": {
  "kernelspec": {
   "display_name": "Python 3",
   "language": "python",
   "name": "python3"
  },
  "language_info": {
   "codemirror_mode": {
    "name": "ipython",
    "version": 3
   },
   "file_extension": ".py",
   "mimetype": "text/x-python",
   "name": "python",
   "nbconvert_exporter": "python",
   "pygments_lexer": "ipython3",
   "version": "3.6.3"
  }
 },
 "nbformat": 4,
 "nbformat_minor": 2
}
